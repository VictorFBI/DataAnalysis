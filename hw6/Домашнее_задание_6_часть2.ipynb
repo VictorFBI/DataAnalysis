{
  "cells": [
    {
      "cell_type": "markdown",
      "metadata": {
        "id": "view-in-github",
        "colab_type": "text"
      },
      "source": [
        "<a href=\"https://colab.research.google.com/github/VictorFBI/DataAnalysis/blob/main/hw6/%D0%94%D0%BE%D0%BC%D0%B0%D1%88%D0%BD%D0%B5%D0%B5_%D0%B7%D0%B0%D0%B4%D0%B0%D0%BD%D0%B8%D0%B5_6_%D1%87%D0%B0%D1%81%D1%82%D1%8C2.ipynb\" target=\"_parent\"><img src=\"https://colab.research.google.com/assets/colab-badge.svg\" alt=\"Open In Colab\"/></a>"
      ]
    },
    {
      "cell_type": "markdown",
      "metadata": {
        "id": "UgDKKI6zOvV9"
      },
      "source": [
        "# Извлечение данных из веб-страниц¶"
      ]
    },
    {
      "cell_type": "markdown",
      "metadata": {
        "id": "fQYS_6dNOvWA"
      },
      "source": [
        "# Задание 1\n",
        "\n",
        "Написать функцию any_news_about_harry(url), принимающую на вход адрес веб-страницы url, загружающую эту веб-страницу и проверяющую, встречается ли в ней слово Harry (с большой буквы). Функция должна возвращать True, если встречается, и False в противном случае. Также функция должна возвращать False, если страницу не удалось открыть (например, была получена ошибка 404 Not Found.)"
      ]
    },
    {
      "cell_type": "code",
      "execution_count": 77,
      "metadata": {
        "id": "a9BhRM04OvWB"
      },
      "outputs": [],
      "source": [
        "import requests\n",
        "from bs4 import BeautifulSoup\n",
        "\n",
        "def any_news_about_harry(url) -> bool:\n",
        "  x = requests.get(url)\n",
        "  if x.ok == False:\n",
        "    return False\n",
        "  page = BeautifulSoup(x.text, 'html.parser')\n",
        "  return 'Harry' in page.get_text()"
      ]
    },
    {
      "cell_type": "markdown",
      "metadata": {
        "id": "UrxOOUxgOvWC"
      },
      "source": [
        "### Проверьте себя"
      ]
    },
    {
      "cell_type": "code",
      "execution_count": 78,
      "metadata": {
        "colab": {
          "base_uri": "https://localhost:8080/"
        },
        "id": "4kWej6MtOvWC",
        "outputId": "2f86038f-1f6e-45bf-d9d6-e786d02eb629"
      },
      "outputs": [
        {
          "output_type": "execute_result",
          "data": {
            "text/plain": [
              "True"
            ]
          },
          "metadata": {},
          "execution_count": 78
        }
      ],
      "source": [
        "any_news_about_harry(\"https://en.wikipedia.org/w/index.php?title=J._K._Rowling&oldid=694008857\")"
      ]
    },
    {
      "cell_type": "code",
      "execution_count": 79,
      "metadata": {
        "colab": {
          "base_uri": "https://localhost:8080/"
        },
        "id": "KdaqrlP6OvWC",
        "outputId": "cc2fe494-9bb9-4872-c7a2-56a1c85a2bac"
      },
      "outputs": [
        {
          "output_type": "execute_result",
          "data": {
            "text/plain": [
              "False"
            ]
          },
          "metadata": {},
          "execution_count": 79
        }
      ],
      "source": [
        "any_news_about_harry(\"https://en.wikipedia.org/w/index.php?title=Darth_Vader&oldid=694617684\")"
      ]
    },
    {
      "cell_type": "code",
      "execution_count": 80,
      "metadata": {
        "colab": {
          "base_uri": "https://localhost:8080/"
        },
        "id": "4V1HhUdEOvWD",
        "outputId": "9dfe96a8-e505-446f-d4f7-782a73b46ca0"
      },
      "outputs": [
        {
          "output_type": "execute_result",
          "data": {
            "text/plain": [
              "False"
            ]
          },
          "metadata": {},
          "execution_count": 80
        }
      ],
      "source": [
        "any_news_about_harry(\"http://www.hse.ru/there_is_no_Harry_here\")"
      ]
    },
    {
      "cell_type": "markdown",
      "metadata": {
        "id": "NQb1DXj2OvWD"
      },
      "source": [
        "# Задание 2\n",
        "Написать функцию `get_strong(html)`, принимающую на вход html-страницу в виде длинной строки, записанной в переменную `html`, и возвращающую строчку, содержащуюся в первом теге `strong`.\n",
        "\n"
      ]
    },
    {
      "cell_type": "code",
      "execution_count": 81,
      "metadata": {
        "id": "b88Il3JDOvWE"
      },
      "outputs": [],
      "source": [
        "def get_strong(html):\n",
        "  page = BeautifulSoup(html, 'html.parser')\n",
        "  return page.strong.string"
      ]
    },
    {
      "cell_type": "markdown",
      "metadata": {
        "id": "QLz9Ruf4OvWE"
      },
      "source": [
        "### Проверьте себя"
      ]
    },
    {
      "cell_type": "code",
      "execution_count": 82,
      "metadata": {
        "colab": {
          "base_uri": "https://localhost:8080/"
        },
        "id": "9R8OLYT_OvWE",
        "outputId": "8aafc91e-90b4-496c-b9ae-352f892c5557"
      },
      "outputs": [
        {
          "output_type": "execute_result",
          "data": {
            "text/plain": [
              "True"
            ]
          },
          "metadata": {},
          "execution_count": 82
        }
      ],
      "source": [
        "html = \"\"\"<html>\n",
        "    <body>\n",
        "        <p>\n",
        "            Hello,\n",
        "            <strong>\n",
        "                World\n",
        "            </strong>\n",
        "        </p>\n",
        "    </body>\n",
        "</html>\"\"\"\n",
        "\n",
        "get_strong(html).strip() == \"World\""
      ]
    },
    {
      "cell_type": "code",
      "execution_count": 83,
      "metadata": {
        "colab": {
          "base_uri": "https://localhost:8080/"
        },
        "id": "MYG-a5TQOvWE",
        "outputId": "077a00c9-8733-42ac-e534-9dffd9649646"
      },
      "outputs": [
        {
          "output_type": "execute_result",
          "data": {
            "text/plain": [
              "True"
            ]
          },
          "metadata": {},
          "execution_count": 83
        }
      ],
      "source": [
        "get_strong(\"<html><body><p>tag &lt;strong&gt; is used in HTML\\n to make letters <strong>stronger</strong>\") == \"stronger\""
      ]
    },
    {
      "cell_type": "code",
      "execution_count": 84,
      "metadata": {
        "colab": {
          "base_uri": "https://localhost:8080/"
        },
        "id": "KQFeILzzOvWE",
        "outputId": "6cfb4887-9d86-40b3-8049-e410c3a55730"
      },
      "outputs": [
        {
          "output_type": "execute_result",
          "data": {
            "text/plain": [
              "True"
            ]
          },
          "metadata": {},
          "execution_count": 84
        }
      ],
      "source": [
        "get_strong(\"<html><body><strong>One\\nTwo</strong></body></html>\") == \"One\\nTwo\""
      ]
    },
    {
      "cell_type": "markdown",
      "metadata": {
        "id": "yIq5MHCEOvWF"
      },
      "source": [
        "# Задание 3"
      ]
    },
    {
      "cell_type": "markdown",
      "metadata": {
        "id": "V8PQGSnBOvWF"
      },
      "source": [
        "Для вставки картинок в HTML используется тег `<img>`, содержащий параметр `src` — адрес файла с картинкой. Например, `<img src=\"https://upload.wikimedia.org/wikipedia/commons/b/bd/Struthio_camelus_portrait_Whipsnade_Zoo.jpg\"/>`. Написать функцию `all_images_src(html)`, принимающую на вход длинную строчку с HTML-документом, а возвращающую список адресов всех картинок, встречающихся в этом документе (в том порядке, в котором они встречаются в документе)."
      ]
    },
    {
      "cell_type": "code",
      "execution_count": 85,
      "metadata": {
        "id": "otEirSSNOvWF"
      },
      "outputs": [],
      "source": [
        "def all_images_src(html):\n",
        "  page = BeautifulSoup(html, 'html.parser')\n",
        "  vec = page.findAll('img')\n",
        "  ans = []\n",
        "  for el in vec:\n",
        "    ans.append(el['src'])\n",
        "  return ans"
      ]
    },
    {
      "cell_type": "markdown",
      "metadata": {
        "id": "y39v0ECsOvWF"
      },
      "source": [
        "### Проверьте себя"
      ]
    },
    {
      "cell_type": "code",
      "execution_count": 86,
      "metadata": {
        "colab": {
          "base_uri": "https://localhost:8080/"
        },
        "id": "WWhnX0hOOvWF",
        "outputId": "6c756ec9-7c67-45b6-e411-a405913ce7e2"
      },
      "outputs": [
        {
          "output_type": "execute_result",
          "data": {
            "text/plain": [
              "True"
            ]
          },
          "metadata": {},
          "execution_count": 86
        }
      ],
      "source": [
        "all_images_src('<html><body><img src=\"https://upload.wikimedia.org/wikipedia/commons/b/bd/Struthio_camelus_portrait_Whipsnade_Zoo.jpg\"/>')== [\"https://upload.wikimedia.org/wikipedia/commons/b/bd/Struthio_camelus_portrait_Whipsnade_Zoo.jpg\"]"
      ]
    },
    {
      "cell_type": "code",
      "execution_count": 87,
      "metadata": {
        "colab": {
          "base_uri": "https://localhost:8080/"
        },
        "id": "7yrpe0P6OvWG",
        "outputId": "caa67f84-d9cd-4d02-8360-9e55a617cd1c"
      },
      "outputs": [
        {
          "output_type": "execute_result",
          "data": {
            "text/plain": [
              "True"
            ]
          },
          "metadata": {},
          "execution_count": 87
        }
      ],
      "source": [
        "all_images_src( ('<html><body><IMG src=\"test.jpg\">\\n'\n",
        "                        '<p>Some text\\n'\n",
        "                        '<img SRC=\\'well.png\\'>\\n'\n",
        "                        '</p></body></html>') ) == [\"test.jpg\", \"well.png\"]"
      ]
    },
    {
      "cell_type": "markdown",
      "metadata": {
        "id": "RSlR9q8COvWG"
      },
      "source": [
        "# Задание 4"
      ]
    },
    {
      "cell_type": "markdown",
      "metadata": {
        "id": "uHChugjzOvWG"
      },
      "source": [
        "Написать функцию `get_all_headings(url)`, принимающую на вход адрес страницы в Википедии и возвращающую список, состоящий из названий разделов статьи (в порядке появления в статье). Если такой страницы не существует, функция должна вернуть список, состоящей из строки `\"Not found\"`.\n",
        "\n",
        "**Подсказка.** С помощью функции вашего браузера *inspect element* или аналогичной, исследуйте, в каких тегах и с какими классами находятся искомые заголовки. Не во всех страницах есть содержание! Например, ваш код должен корректно обрабатывать [эту страницу](https://ru.wikipedia.org/w/index.php?title=User%3AIlya_Voyager%2Fsandbox%2Fh2test&oldid=75055744)."
      ]
    },
    {
      "cell_type": "code",
      "execution_count": 88,
      "metadata": {
        "id": "12FLYwjrOvWG"
      },
      "outputs": [],
      "source": [
        "def get_all_headings(url):\n",
        "  r = requests.get(url)\n",
        "\n",
        "  if r.ok == False:\n",
        "    return [\"Not found\"]\n",
        "\n",
        "  page = BeautifulSoup(r.text, 'html.parser')\n",
        "  elements = page.findAll('h2')\n",
        "  ans = []\n",
        "  for el in elements:\n",
        "    tmp = el.findAll('span')\n",
        "    if len(tmp) > 1:\n",
        "      ans.append(tmp[1].string)\n",
        "  return ans"
      ]
    },
    {
      "cell_type": "markdown",
      "metadata": {
        "id": "6oTjYJHGOvWG"
      },
      "source": [
        "### Проверьте себя"
      ]
    },
    {
      "cell_type": "code",
      "execution_count": 89,
      "metadata": {
        "colab": {
          "base_uri": "https://localhost:8080/"
        },
        "id": "bkPjypIgOvWG",
        "outputId": "c9b0ab7f-a4d3-4ce1-a165-a32e253d8fe9"
      },
      "outputs": [
        {
          "output_type": "execute_result",
          "data": {
            "text/plain": [
              "True"
            ]
          },
          "metadata": {},
          "execution_count": 89
        }
      ],
      "source": [
        "get_all_headings(\"https://ru.wikipedia.org/w/index.php?title=User%3AIlya_Voyager%2Fsandbox%2Fh2test&oldid=75055744\")== ['Заголовок', 'Ещё один заголовок', 'Третий заголовок']"
      ]
    },
    {
      "cell_type": "code",
      "execution_count": 90,
      "metadata": {
        "colab": {
          "base_uri": "https://localhost:8080/"
        },
        "id": "AI3E3BLcOvWG",
        "outputId": "3d8e10f1-ceaa-49b8-9eb7-309ae9b71e58"
      },
      "outputs": [
        {
          "output_type": "execute_result",
          "data": {
            "text/plain": [
              "True"
            ]
          },
          "metadata": {},
          "execution_count": 90
        }
      ],
      "source": [
        "get_all_headings(\"https://ru.wikipedia.org/wiki/Северовирджинская_кампания\")== ['Предыстория',\n",
        "                                                                          'Силы сторон',\n",
        "                                                                          'Сражения',\n",
        "                                                                          'Последствия',\n",
        "                                                                          'Примечания',\n",
        "                                                                          'Литература',\n",
        "                                                                          'Ссылки']"
      ]
    },
    {
      "cell_type": "code",
      "execution_count": 91,
      "metadata": {
        "colab": {
          "base_uri": "https://localhost:8080/"
        },
        "id": "PWMrr6GuOvWG",
        "outputId": "e504e241-7f3d-49bd-f565-b18efc7e08e7"
      },
      "outputs": [
        {
          "output_type": "execute_result",
          "data": {
            "text/plain": [
              "True"
            ]
          },
          "metadata": {},
          "execution_count": 91
        }
      ],
      "source": [
        "get_all_headings(\"https://ru.wikipedia.org/wiki/This Page Will Never Exist\") == [\"Not found\"]"
      ]
    },
    {
      "cell_type": "code",
      "source": [
        "get_all_headings('https://colab.research.google.com/corgiredirector?site=https%3A%2F%2Fru.wikipedia.org%2Fw%2Findex.php%3Ftitle%3DUser%253AIlya_Voyager%252Fsandbox%252Fh2test%26oldid%3D75055744') == []"
      ],
      "metadata": {
        "colab": {
          "base_uri": "https://localhost:8080/"
        },
        "id": "rLs77WsJZ_7E",
        "outputId": "31c0a6fe-1caa-4343-e9a1-77f7ec42e0cf"
      },
      "execution_count": 92,
      "outputs": [
        {
          "output_type": "execute_result",
          "data": {
            "text/plain": [
              "True"
            ]
          },
          "metadata": {},
          "execution_count": 92
        }
      ]
    },
    {
      "cell_type": "markdown",
      "metadata": {
        "id": "aBFhZLbxOvWG"
      },
      "source": [
        "_Источник: wiki.cs.hse.ru_"
      ]
    }
  ],
  "metadata": {
    "kernelspec": {
      "display_name": "Python 3 (ipykernel)",
      "language": "python",
      "name": "python3"
    },
    "language_info": {
      "codemirror_mode": {
        "name": "ipython",
        "version": 3
      },
      "file_extension": ".py",
      "mimetype": "text/x-python",
      "name": "python",
      "nbconvert_exporter": "python",
      "pygments_lexer": "ipython3",
      "version": "3.11.5"
    },
    "colab": {
      "provenance": [],
      "include_colab_link": true
    }
  },
  "nbformat": 4,
  "nbformat_minor": 0
}